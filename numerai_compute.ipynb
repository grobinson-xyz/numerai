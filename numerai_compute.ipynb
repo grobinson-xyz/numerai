{
 "cells": [
  {
   "cell_type": "code",
   "execution_count": 3,
   "metadata": {},
   "outputs": [],
   "source": [
    "from pathlib import Path\n",
    "import dask.dataframe as dd\n",
    "import numerapi \n",
    "import matplotlib.pyplot as plt\n"
   ]
  },
  {
   "cell_type": "code",
   "execution_count": null,
   "metadata": {},
   "outputs": [],
   "source": [
    "napi = numerapi.NumerAPI()\n",
    "\n",
    "napi.list_datasets()"
   ]
  },
  {
   "cell_type": "code",
   "execution_count": null,
   "metadata": {},
   "outputs": [],
   "source": [
    "train_parquet_path = \"numerai_training_data_int8.parquet\"\n",
    "validation_parquet_path = \"numerai_validation_data_int8.parquet\"\n",
    "\n",
    "napi.download_dataset(\"numerai_training_data_int8.parquet\", train_parquet_path)\n",
    "napi.download_dataset(\"numerai_training_data_int8.parquet\", validation_parquet_path)"
   ]
  },
  {
   "cell_type": "code",
   "execution_count": null,
   "metadata": {},
   "outputs": [],
   "source": [
    "CURRENT_ROUND = napi.get_current_round()\n",
    "\n",
    "for file in napi.list_datasets():\n",
    "    if \"parquet\" in file and \"int8\" in file:\n",
    "        if \"training\" in file or \"validation\" in file:\n",
    "            napi.download_dataset(file, f\"data/{file}\")\n",
    "        else:\n",
    "            Path(f\"data/{CURRENT_ROUND}\").mkdir(exist_ok=True, parents=True)\n",
    "            napi.download_dataset(file, f\"data/{CURRENT_ROUND}/{file}\")"
   ]
  },
  {
   "cell_type": "code",
   "execution_count": 6,
   "metadata": {},
   "outputs": [],
   "source": [
    "df_train = dd.read_parquet(\"data/v3/numerai_training_data_int8.parquet\")\n",
    "df_validation = dd.read_parquet(\"data/v3/numerai_validation_data_int8.parquet\")"
   ]
  },
  {
   "cell_type": "code",
   "execution_count": 7,
   "metadata": {},
   "outputs": [],
   "source": [
    "df_tournament = dd.read_parquet(f\"data/{CURRENT_ROUND}/v3/numerai_tournament_data_int8.parquet\")"
   ]
  },
  {
   "cell_type": "code",
   "execution_count": null,
   "metadata": {},
   "outputs": [],
   "source": [
    "df_train.head()"
   ]
  },
  {
   "cell_type": "code",
   "execution_count": null,
   "metadata": {},
   "outputs": [],
   "source": [
    "df_validation.head()"
   ]
  },
  {
   "cell_type": "code",
   "execution_count": null,
   "metadata": {},
   "outputs": [],
   "source": [
    "df_tournament.head()"
   ]
  },
  {
   "cell_type": "code",
   "execution_count": 11,
   "metadata": {},
   "outputs": [],
   "source": [
    "features = [c for c in df_train if c.startswith(\"feature\")]\n",
    "targets = [c for c in df_train if c.startswith(\"target\")]\n",
    "\n",
    "df_train[\"erano\"] = df_train.era.astype(int)\n",
    "eras = df_train.erano "
   ]
  },
  {
   "cell_type": "code",
   "execution_count": 12,
   "metadata": {},
   "outputs": [
    {
     "name": "stdout",
     "output_type": "stream",
     "text": [
      "574\n"
     ]
    }
   ],
   "source": [
    "print(eras.max().compute())"
   ]
  },
  {
   "cell_type": "code",
   "execution_count": null,
   "metadata": {},
   "outputs": [],
   "source": [
    "print(features)\n",
    "print(targets)"
   ]
  },
  {
   "cell_type": "code",
   "execution_count": null,
   "metadata": {},
   "outputs": [],
   "source": [
    "plt.figure(figsize=(8,8))\n",
    "plt.imshow(df_train[df_train.erano == 1][features].corr())"
   ]
  }
 ],
 "metadata": {
  "kernelspec": {
   "display_name": "Python 3.9.1 64-bit",
   "language": "python",
   "name": "python3"
  },
  "language_info": {
   "codemirror_mode": {
    "name": "ipython",
    "version": 3
   },
   "file_extension": ".py",
   "mimetype": "text/x-python",
   "name": "python",
   "nbconvert_exporter": "python",
   "pygments_lexer": "ipython3",
   "version": "3.9.1"
  },
  "orig_nbformat": 4,
  "vscode": {
   "interpreter": {
    "hash": "81794d4967e6c3204c66dcd87b604927b115b27c00565d3d43f05ba2f3a2cb0d"
   }
  }
 },
 "nbformat": 4,
 "nbformat_minor": 2
}
